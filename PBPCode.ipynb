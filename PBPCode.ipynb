{
  "nbformat": 4,
  "nbformat_minor": 0,
  "metadata": {
    "kernelspec": {
      "display_name": "Python 3",
      "language": "python",
      "name": "python3"
    },
    "language_info": {
      "codemirror_mode": {
        "name": "ipython",
        "version": 3
      },
      "file_extension": ".py",
      "mimetype": "text/x-python",
      "name": "python",
      "nbconvert_exporter": "python",
      "pygments_lexer": "ipython3",
      "version": "3.8.5"
    },
    "colab": {
      "name": "PBPCode.ipynb",
      "provenance": [],
      "collapsed_sections": [],
      "include_colab_link": true
    },
    "accelerator": "GPU"
  },
  "cells": [
    {
      "cell_type": "markdown",
      "metadata": {
        "id": "view-in-github",
        "colab_type": "text"
      },
      "source": [
        "<a href=\"https://colab.research.google.com/github/Alisa-Liang/colab/blob/main/PBPCode.ipynb\" target=\"_parent\"><img src=\"https://colab.research.google.com/assets/colab-badge.svg\" alt=\"Open In Colab\"/></a>"
      ]
    },
    {
      "cell_type": "code",
      "metadata": {
        "colab": {
          "base_uri": "https://localhost:8080/"
        },
        "id": "Zd1NF_hvvPd2",
        "outputId": "f8838312-45be-4d9a-9930-40f882c13001"
      },
      "source": [
        "from google.colab import drive\n",
        "drive.mount(\"/content/drive\")"
      ],
      "execution_count": null,
      "outputs": [
        {
          "output_type": "stream",
          "name": "stdout",
          "text": [
            "Mounted at /content/drive\n"
          ]
        }
      ]
    },
    {
      "cell_type": "code",
      "metadata": {
        "id": "-CJOgHANM35S"
      },
      "source": [
        "#import sys\n",
        "#sys.path.append('/content/drive/MyDrive/Colab Notebooks/PBP')"
      ],
      "execution_count": null,
      "outputs": []
    },
    {
      "cell_type": "code",
      "metadata": {
        "id": "yOJe2hzKNFha"
      },
      "source": [
        "import os\n",
        "os.chdir(\"/content/drive/MyDrive/Colab Notebooks/PBP\")"
      ],
      "execution_count": null,
      "outputs": []
    },
    {
      "cell_type": "code",
      "metadata": {
        "colab": {
          "base_uri": "https://localhost:8080/"
        },
        "id": "oyIg3bgBMHdq",
        "outputId": "6293d72d-4076-4993-b07d-978393883ff8"
      },
      "source": [
        "! pwd"
      ],
      "execution_count": null,
      "outputs": [
        {
          "output_type": "stream",
          "name": "stdout",
          "text": [
            "/content/drive/MyDrive/Colab Notebooks/PBP\n"
          ]
        }
      ]
    },
    {
      "cell_type": "code",
      "metadata": {
        "id": "Bf_F6Aa8VtHW"
      },
      "source": [
        "\"\"\"\n",
        "Adapt from:\n",
        "1. https://gist.github.com/vvanirudh/9e30b2f908e801da1bd789f4ce3e7aac\n",
        "2. \"Variational Dropout and the Local Reparameterization Trick\" (https://arxiv.org/abs/1506.02557)\n",
        "3. http://gluon.mxnet.io/chapter18_variational-methods-and-uncertainty/bayes-by-backprop.html\n",
        "\"\"\"\n",
        "import BNNLayer\n",
        "import BNN\n",
        "\n",
        "import torch\n",
        "import torchvision\n",
        "import torch.utils.data as Data\n",
        "from torch.autograd import Variable"
      ],
      "execution_count": null,
      "outputs": []
    },
    {
      "cell_type": "code",
      "metadata": {
        "id": "r53HGhgwe7XW"
      },
      "source": [
        "N_Epochs = 15    #设置运行次数\n",
        "N_Samples = 1      #样本数\n",
        "LearningRate = 1e-3   #设置学习效率\n",
        "BatchSize = 100    #设置一组训练所选取的样本数(组数)。\n",
        "Download_MNIST = True  # download the dataset if you don't already have it"
      ],
      "execution_count": null,
      "outputs": []
    },
    {
      "cell_type": "code",
      "metadata": {
        "colab": {
          "base_uri": "https://localhost:8080/"
        },
        "id": "XoP0Uz8MfEF0",
        "outputId": "f6590abe-7ae8-4dd2-c61f-747d310ddd28"
      },
      "source": [
        "# Change to whatever directory your data is at\n",
        "import os.path\n",
        "#设置数据集的路径。os.path.join：连接两个或更多的路径名组件；os.path.dirname：去掉文件名，返回目录\n",
        "#dataset_path = os.path.join(os.path.dirname(__file__), 'mnist')  \n",
        "\n",
        "#从minst数据集上下载训练集\n",
        "train_set = torchvision.datasets.MNIST(\n",
        "    root='./mnist/',\n",
        "    train=True,\n",
        "    transform=torchvision.transforms.ToTensor(),\n",
        "    download=Download_MNIST\n",
        ")\n",
        "\n",
        "train_size = train_set.train_data.size()[0]  #得到训练集有多少元素\n",
        "N_Batch = train_size / BatchSize  #每次执行用到的元素个数\n",
        "\n",
        "#将数据集进行分组，每组中有600个元素\n",
        "train_loader = Data.DataLoader(dataset=train_set, batch_size=BatchSize, shuffle=True)\n",
        "\n",
        "#从minst数据集上下载测试集\n",
        "test_set = torchvision.datasets.MNIST(\n",
        "    root='./mnist/',\n",
        "    train=False,\n",
        "    transform=torchvision.transforms.ToTensor(),\n",
        "    download=Download_MNIST\n",
        ")\n",
        "\n",
        "test_size = test_set.test_data.size()[0]  #得到测试集有多少元素"
      ],
      "execution_count": null,
      "outputs": [
        {
          "output_type": "stream",
          "name": "stderr",
          "text": [
            "/usr/local/lib/python3.7/dist-packages/torchvision/datasets/mnist.py:498: UserWarning: The given NumPy array is not writeable, and PyTorch does not support non-writeable tensors. This means you can write to the underlying (supposedly non-writeable) NumPy array using the tensor. You may want to copy the array to protect its data or make it writeable before converting it to a tensor. This type of warning will be suppressed for the rest of this program. (Triggered internally at  /pytorch/torch/csrc/utils/tensor_numpy.cpp:180.)\n",
            "  return torch.from_numpy(parsed.astype(m[2], copy=False)).view(*s)\n",
            "/usr/local/lib/python3.7/dist-packages/torchvision/datasets/mnist.py:62: UserWarning: train_data has been renamed data\n",
            "  warnings.warn(\"train_data has been renamed data\")\n",
            "/usr/local/lib/python3.7/dist-packages/torchvision/datasets/mnist.py:67: UserWarning: test_data has been renamed data\n",
            "  warnings.warn(\"test_data has been renamed data\")\n"
          ]
        }
      ]
    },
    {
      "cell_type": "code",
      "metadata": {
        "id": "WYyZP1uhwXKN",
        "colab": {
          "base_uri": "https://localhost:8080/",
          "height": 1000
        },
        "outputId": "2aa3e0d7-cd11-411d-b4c3-dded4dd8630e"
      },
      "source": [
        "#损失函数，若预测值和真实值相等，新的指数digits为(pred == true).mean() * 100\n",
        "compute_accu = lambda pred, true, digits: round((pred == true).mean() * 100, digits)\n",
        "\n",
        "if __name__ == '__main__':\n",
        "\n",
        "    # Initialize network  #初始化网络\n",
        "    bnn = BNN.BNN(BNNLayer.BNNLayer(784, 128, activation='relu', prior_mean=0, prior_rho=-3), BNNLayer.BNNLayer(128, 10, activation='softmax', prior_mean=0, prior_rho=-3))\n",
        "    optim = torch.optim.Adam(bnn.parameters(), lr=LearningRate)\n",
        "\n",
        "    # Main training loop   #对训练集和测试集进行循环\n",
        "    train_accu_lst = []\n",
        "    test_accu_lst = []\n",
        "    for i_ep in range(N_Epochs):\n",
        "\n",
        "        # Training   对数据集进行训练\n",
        "        for X, Y in train_loader:\n",
        "            batch_X = Variable(X.view(BatchSize, -1))\n",
        "            batch_Y = Variable(Y.view(BatchSize, -1))\n",
        "\n",
        "            kl, log_likelihood = bnn.Forward(batch_X, batch_Y, N_Samples, type='Softmax')\n",
        "\n",
        "            # Loss and backprop   #损失函数和反向传播\n",
        "            loss = BNN.BNN.loss_fn(kl, log_likelihood, N_Batch)\n",
        "            optim.zero_grad()\n",
        "            loss.backward()\n",
        "            optim.step()\n",
        "\n",
        "        # Evaluate on training set  对训练集进行准确率评价\n",
        "        train_X = Variable(train_set.train_data.view(train_size, -1).type(torch.FloatTensor))\n",
        "        train_Y = Variable(train_set.train_labels.view(train_size, -1))\n",
        "\n",
        "        pred_class = bnn.forward(train_X, mode='MAP').data.numpy().argmax(axis=1)\n",
        "        true_class = train_Y.data.numpy().ravel()\n",
        "\n",
        "        train_accu = compute_accu(pred_class, true_class, 1)\n",
        "        print('Epoch', i_ep, '|  Training Accuracy:', train_accu, '%')\n",
        "\n",
        "        train_accu_lst.append(train_accu)\n",
        "\n",
        "        # Evaluate on test set      对测试集进行准确率评价\n",
        "        test_X = Variable(test_set.test_data.view(test_size, -1).type(torch.FloatTensor))\n",
        "        test_Y = Variable(test_set.test_labels.view(test_size, -1))\n",
        "\n",
        "        pred_class = bnn.forward(test_X, mode='MAP').data.numpy().argmax(axis=1)\n",
        "        true_class = test_Y.data.numpy().ravel()\n",
        "\n",
        "        test_accu = compute_accu(pred_class, true_class, 1)\n",
        "        print('Epoch', i_ep, '|  Test Accuracy:', test_accu, '%')\n",
        "\n",
        "        test_accu_lst.append(test_accu)\n",
        "\n",
        "    # Plot\n",
        "    import matplotlib.pyplot as plt\n",
        "    plt.style.use('seaborn-paper')                                                                                                 \n",
        "\n",
        "    plt.title('Classification Accuracy on MNIST')\n",
        "    plt.plot(train_accu_lst, label='Train')\n",
        "    plt.plot(test_accu_lst, label='Test')\n",
        "    plt.ylabel('Accuracy (%)')\n",
        "    plt.xlabel('Epochs')\n",
        "    plt.legend(loc='best')\n",
        "    plt.tight_layout()\n",
        "    plt.show()\n"
      ],
      "execution_count": null,
      "outputs": [
        {
          "output_type": "stream",
          "name": "stderr",
          "text": [
            "/content/drive/MyDrive/Colab Notebooks/PBP/BNNLayer.py:75: UserWarning: Implicit dimension choice for softmax has been deprecated. Change the call to include dim=X as an argument.\n",
            "  out = self.act(Z) if self.act is not None else Z\n",
            "/usr/local/lib/python3.7/dist-packages/torchvision/datasets/mnist.py:62: UserWarning: train_data has been renamed data\n",
            "  warnings.warn(\"train_data has been renamed data\")\n",
            "/usr/local/lib/python3.7/dist-packages/torchvision/datasets/mnist.py:52: UserWarning: train_labels has been renamed targets\n",
            "  warnings.warn(\"train_labels has been renamed targets\")\n",
            "/content/drive/MyDrive/Colab Notebooks/PBP/BNNLayer.py:50: UserWarning: Implicit dimension choice for softmax has been deprecated. Change the call to include dim=X as an argument.\n",
            "  if mode == 'MAP': return self.act(Z_Mean) if self.act is not None else Z_Mean\n",
            "/usr/local/lib/python3.7/dist-packages/torchvision/datasets/mnist.py:67: UserWarning: test_data has been renamed data\n",
            "  warnings.warn(\"test_data has been renamed data\")\n",
            "/usr/local/lib/python3.7/dist-packages/torchvision/datasets/mnist.py:57: UserWarning: test_labels has been renamed targets\n",
            "  warnings.warn(\"test_labels has been renamed targets\")\n"
          ]
        },
        {
          "output_type": "stream",
          "name": "stdout",
          "text": [
            "Epoch 0 |  Training Accuracy: 94.1 %\n",
            "Epoch 0 |  Test Accuracy: 93.9 %\n",
            "Epoch 1 |  Training Accuracy: 96.0 %\n",
            "Epoch 1 |  Test Accuracy: 95.6 %\n",
            "Epoch 2 |  Training Accuracy: 97.0 %\n",
            "Epoch 2 |  Test Accuracy: 96.2 %\n",
            "Epoch 3 |  Training Accuracy: 97.5 %\n",
            "Epoch 3 |  Test Accuracy: 96.7 %\n",
            "Epoch 4 |  Training Accuracy: 98.0 %\n",
            "Epoch 4 |  Test Accuracy: 97.2 %\n",
            "Epoch 5 |  Training Accuracy: 98.4 %\n",
            "Epoch 5 |  Test Accuracy: 97.4 %\n",
            "Epoch 6 |  Training Accuracy: 98.5 %\n",
            "Epoch 6 |  Test Accuracy: 97.4 %\n",
            "Epoch 7 |  Training Accuracy: 98.7 %\n",
            "Epoch 7 |  Test Accuracy: 97.6 %\n",
            "Epoch 8 |  Training Accuracy: 98.9 %\n",
            "Epoch 8 |  Test Accuracy: 97.7 %\n",
            "Epoch 9 |  Training Accuracy: 99.0 %\n",
            "Epoch 9 |  Test Accuracy: 97.6 %\n",
            "Epoch 10 |  Training Accuracy: 99.2 %\n",
            "Epoch 10 |  Test Accuracy: 97.8 %\n",
            "Epoch 11 |  Training Accuracy: 99.3 %\n",
            "Epoch 11 |  Test Accuracy: 97.8 %\n",
            "Epoch 12 |  Training Accuracy: 99.5 %\n",
            "Epoch 12 |  Test Accuracy: 97.9 %\n",
            "Epoch 13 |  Training Accuracy: 99.4 %\n",
            "Epoch 13 |  Test Accuracy: 97.9 %\n",
            "Epoch 14 |  Training Accuracy: 99.6 %\n",
            "Epoch 14 |  Test Accuracy: 97.9 %\n"
          ]
        },
        {
          "output_type": "display_data",
          "data": {
            "image/png": "[encoded data removed]",
            "text/plain": [
              "<Figure size 460.8x316.8 with 1 Axes>"
            ]
          },
          "metadata": {
            "needs_background": "light"
          }
        }
      ]
    }
  ]
}